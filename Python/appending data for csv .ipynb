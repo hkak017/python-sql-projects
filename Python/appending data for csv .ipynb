{
 "cells": [
  {
   "cell_type": "code",
   "execution_count": 5,
   "id": "9e80d7f7",
   "metadata": {},
   "outputs": [],
   "source": [
    "import os\n",
    "import csv\n",
    "\n",
    "# folder path where all the csv files are located\n",
    "folder_path = r'C:\\Users\\Hemanth\\Desktop\\test'\n",
    "\n",
    "# list to store all the csv files\n",
    "csv_files = []\n",
    "\n",
    "# loop through the folder to get all the csv files\n",
    "for filename in os.listdir(folder_path):\n",
    "    if filename.endswith(\".csv\"):\n",
    "        csv_files.append(os.path.join(folder_path, filename))\n",
    "\n",
    "# list to store all the data from all csv files\n",
    "data = []\n",
    "\n",
    "# loop through all the csv files to read data\n",
    "for file in csv_files:\n",
    "    with open(file, 'r') as f:\n",
    "        reader = csv.reader(f)\n",
    "        for row in reader:\n",
    "            data.append(row)\n",
    "\n",
    "# save the data to a single csv file in the desktop\n",
    "with open(r\"C:\\Users\\Hemanth\\Desktop\\finalcsv.csv\", 'w', newline='') as f:\n",
    "    writer = csv.writer(f)\n",
    "    writer.writerows(data)\n"
   ]
  }
 ],
 "metadata": {
  "kernelspec": {
   "display_name": "Python 3 (ipykernel)",
   "language": "python",
   "name": "python3"
  },
  "language_info": {
   "codemirror_mode": {
    "name": "ipython",
    "version": 3
   },
   "file_extension": ".py",
   "mimetype": "text/x-python",
   "name": "python",
   "nbconvert_exporter": "python",
   "pygments_lexer": "ipython3",
   "version": "3.9.13"
  }
 },
 "nbformat": 4,
 "nbformat_minor": 5
}

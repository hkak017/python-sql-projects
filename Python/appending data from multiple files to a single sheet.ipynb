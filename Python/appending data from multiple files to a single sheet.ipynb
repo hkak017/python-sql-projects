{
 "cells": [
  {
   "cell_type": "code",
   "execution_count": 59,
   "id": "a2768b03",
   "metadata": {
    "scrolled": true
   },
   "outputs": [
    {
     "name": "stdout",
     "output_type": "stream",
     "text": [
      "['C:\\\\\\\\Users\\\\\\\\Hemanth\\\\\\\\Desktop\\\\\\\\pincode\\\\Andaman & Nicobar U.T..xls', 'C:\\\\\\\\Users\\\\\\\\Hemanth\\\\\\\\Desktop\\\\\\\\pincode\\\\Andhra Pradesh.xls', 'C:\\\\\\\\Users\\\\\\\\Hemanth\\\\\\\\Desktop\\\\\\\\pincode\\\\Arunachal Pradesh.xls', 'C:\\\\\\\\Users\\\\\\\\Hemanth\\\\\\\\Desktop\\\\\\\\pincode\\\\Assam.xls', 'C:\\\\\\\\Users\\\\\\\\Hemanth\\\\\\\\Desktop\\\\\\\\pincode\\\\Bihar.xls', 'C:\\\\\\\\Users\\\\\\\\Hemanth\\\\\\\\Desktop\\\\\\\\pincode\\\\Chandigarh U.T..xls', 'C:\\\\\\\\Users\\\\\\\\Hemanth\\\\\\\\Desktop\\\\\\\\pincode\\\\Chattisgarh.xls', 'C:\\\\\\\\Users\\\\\\\\Hemanth\\\\\\\\Desktop\\\\\\\\pincode\\\\Dadra & Nagar Haveli U.T..xls', 'C:\\\\\\\\Users\\\\\\\\Hemanth\\\\\\\\Desktop\\\\\\\\pincode\\\\Daman & Diu U.T..xls', 'C:\\\\\\\\Users\\\\\\\\Hemanth\\\\\\\\Desktop\\\\\\\\pincode\\\\Delhi.xls', 'C:\\\\\\\\Users\\\\\\\\Hemanth\\\\\\\\Desktop\\\\\\\\pincode\\\\Goa.xls', 'C:\\\\\\\\Users\\\\\\\\Hemanth\\\\\\\\Desktop\\\\\\\\pincode\\\\Gujarat.xls', 'C:\\\\\\\\Users\\\\\\\\Hemanth\\\\\\\\Desktop\\\\\\\\pincode\\\\Haryana.xls', 'C:\\\\\\\\Users\\\\\\\\Hemanth\\\\\\\\Desktop\\\\\\\\pincode\\\\Himachal Pradesh.xls', 'C:\\\\\\\\Users\\\\\\\\Hemanth\\\\\\\\Desktop\\\\\\\\pincode\\\\Jammu & Kashmir.xls', 'C:\\\\\\\\Users\\\\\\\\Hemanth\\\\\\\\Desktop\\\\\\\\pincode\\\\Jharkhand.xls', 'C:\\\\\\\\Users\\\\\\\\Hemanth\\\\\\\\Desktop\\\\\\\\pincode\\\\Karnataka.xls', 'C:\\\\\\\\Users\\\\\\\\Hemanth\\\\\\\\Desktop\\\\\\\\pincode\\\\Kerala.xls', 'C:\\\\\\\\Users\\\\\\\\Hemanth\\\\\\\\Desktop\\\\\\\\pincode\\\\Lakshadweep U.T..xls', 'C:\\\\\\\\Users\\\\\\\\Hemanth\\\\\\\\Desktop\\\\\\\\pincode\\\\Madhya Pradesh.xls', 'C:\\\\\\\\Users\\\\\\\\Hemanth\\\\\\\\Desktop\\\\\\\\pincode\\\\Maharashtra.xls', 'C:\\\\\\\\Users\\\\\\\\Hemanth\\\\\\\\Desktop\\\\\\\\pincode\\\\Manipur.xls', 'C:\\\\\\\\Users\\\\\\\\Hemanth\\\\\\\\Desktop\\\\\\\\pincode\\\\Meghalaya.xls', 'C:\\\\\\\\Users\\\\\\\\Hemanth\\\\\\\\Desktop\\\\\\\\pincode\\\\Mizoram.xls', 'C:\\\\\\\\Users\\\\\\\\Hemanth\\\\\\\\Desktop\\\\\\\\pincode\\\\Nagaland.xls', 'C:\\\\\\\\Users\\\\\\\\Hemanth\\\\\\\\Desktop\\\\\\\\pincode\\\\Orissa.xls', 'C:\\\\\\\\Users\\\\\\\\Hemanth\\\\\\\\Desktop\\\\\\\\pincode\\\\Pondicherry U.T..xls', 'C:\\\\\\\\Users\\\\\\\\Hemanth\\\\\\\\Desktop\\\\\\\\pincode\\\\Punjab.xls', 'C:\\\\\\\\Users\\\\\\\\Hemanth\\\\\\\\Desktop\\\\\\\\pincode\\\\Rajasthan.xls', 'C:\\\\\\\\Users\\\\\\\\Hemanth\\\\\\\\Desktop\\\\\\\\pincode\\\\Sikkim.xls', 'C:\\\\\\\\Users\\\\\\\\Hemanth\\\\\\\\Desktop\\\\\\\\pincode\\\\Tamil Nadu.xls', 'C:\\\\\\\\Users\\\\\\\\Hemanth\\\\\\\\Desktop\\\\\\\\pincode\\\\Tripura.xls', 'C:\\\\\\\\Users\\\\\\\\Hemanth\\\\\\\\Desktop\\\\\\\\pincode\\\\Uttar Pradesh.xls', 'C:\\\\\\\\Users\\\\\\\\Hemanth\\\\\\\\Desktop\\\\\\\\pincode\\\\UttaraKhand.xls', 'C:\\\\\\\\Users\\\\\\\\Hemanth\\\\\\\\Desktop\\\\\\\\pincode\\\\West Bengal.xls']\n"
     ]
    }
   ],
   "source": [
    "import pandas as pd\n",
    "import glob\n",
    "\n",
    "path = r'C:\\\\Users\\\\Hemanth\\\\Desktop\\\\pincode\\\\*.xls'\n",
    "files = glob.glob(path)\n",
    "df_list = []\n",
    "print(files)\n",
    "\n",
    "for file in files:\n",
    "    df = pd.read_excel(file, sheet_name='Sheet1',skiprows=[1,2])\n",
    "    df_list.append(df)\n",
    "\n",
    "df_final = pd.concat(df_list)\n",
    "df_final.to_excel(r\"C:\\Users\\Hemanth\\Desktop\\lstate.xlsx\",index=False,encoding=\"utf-8-sig\")"
   ]
  }
 ],
 "metadata": {
  "kernelspec": {
   "display_name": "Python 3 (ipykernel)",
   "language": "python",
   "name": "python3"
  },
  "language_info": {
   "codemirror_mode": {
    "name": "ipython",
    "version": 3
   },
   "file_extension": ".py",
   "mimetype": "text/x-python",
   "name": "python",
   "nbconvert_exporter": "python",
   "pygments_lexer": "ipython3",
   "version": "3.9.13"
  }
 },
 "nbformat": 4,
 "nbformat_minor": 5
}
